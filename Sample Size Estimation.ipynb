{
 "cells": [
  {
   "cell_type": "markdown",
   "id": "725661b5",
   "metadata": {},
   "source": [
    "# EXPLORING FINANCIAL BARRIERS TO SCIENTIFIC CONFERENCES IN NIGERIA: An Analysis of Registration Costs Among Medical Students"
   ]
  },
  {
   "cell_type": "markdown",
   "id": "96166b58",
   "metadata": {},
   "source": [
    "## Sample Size estimation"
   ]
  },
  {
   "cell_type": "code",
   "execution_count": 44,
   "id": "c49cbd9f",
   "metadata": {},
   "outputs": [],
   "source": [
    "import math"
   ]
  },
  {
   "cell_type": "markdown",
   "id": "c9f67704",
   "metadata": {},
   "source": [
    "We want to estimate a representative sample size needed to analyze the mean attendance of medical students to scientific conferences.\n",
    "\n",
    "We are working with:\n",
    "- a 95% confidence level\n",
    "- a 5% margin of error\n",
    "- an estimated 75000 medical students are in Nigeria\n",
    "- an estimated 50% of these medical students attend scientific conferences"
   ]
  },
  {
   "cell_type": "code",
   "execution_count": 45,
   "id": "7bd292a7",
   "metadata": {},
   "outputs": [],
   "source": [
    "def calculate_sample_size(z_score, proportion, margin_of_error, population_size):\n",
    "    # Calculate the sample size without finite population correction\n",
    "    conference_sample_size = ((z_score**2) * proportion * (1 - proportion)) / (margin_of_error**2)\n",
    "    \n",
    "    return math.ceil(conference_sample_size)  # Round up to the nearest whole number\n",
    "\n",
    "confidence_level = 0.95  # 95% confidence level\n",
    "z_score = 1.96  # Z-score for 95% confidence\n",
    "estimated_proportion = 0.5  # 50% of Nigerian medical students attend scientific conferences (estimated)\n",
    "margin_of_error = 0.05  # 5% margin of error\n",
    "total_population = 75000  # Total population size\n",
    "\n",
    "conference_sample_size = calculate_sample_size(z_score, estimated_proportion, margin_of_error, total_population)"
   ]
  },
  {
   "cell_type": "code",
   "execution_count": 46,
   "id": "ba309c9d",
   "metadata": {},
   "outputs": [
    {
     "name": "stdout",
     "output_type": "stream",
     "text": [
      "385\n"
     ]
    }
   ],
   "source": [
    "print(conference_sample_size)"
   ]
  },
  {
   "cell_type": "markdown",
   "id": "fd8e8cd1",
   "metadata": {},
   "source": [
    "## Proportional sample size per geo-political zone"
   ]
  },
  {
   "cell_type": "markdown",
   "id": "fbe46221",
   "metadata": {},
   "source": [
    "We are working with:\n",
    "- an estimated 75000 medical students in Nigeria\n",
    "- a minimum of 383 medcial students as representative sample\n",
    "- a total of 73 NiMSA accredited medical schools in Nigeria\n",
    "- 16 medical schools in the South-South, 16 in the South-West, 15 in the South-East, 8 in the North-Central, 9 in the North-West, and 7 in the North-East.\n",
    "- An average graduation quota of 200 students for the South-West, 180 for South-South and South-East, and 150 for North-Central, North-West and North-East. "
   ]
  },
  {
   "cell_type": "code",
   "execution_count": 47,
   "id": "1c6dd22c",
   "metadata": {},
   "outputs": [
    {
     "name": "stdout",
     "output_type": "stream",
     "text": [
      "100 students required from the South-South\n",
      "90 students required from the South-West\n",
      "84 students required from the South-East\n",
      "38 students required from the North-Central\n",
      "42 students required from the North-West\n",
      "84 students required from the North-East\n"
     ]
    }
   ],
   "source": [
    "\"\"\"number of students per zone, calculated by multiplying the estimated quota per school by 6 (for the 6 academic levels). \n",
    "It is pertinent to note that the actual number is way more than this as most schools admit a lot more than their quota\"\"\"\n",
    "\n",
    "s_s = 19200\n",
    "s_w = 17280\n",
    "s_e = 16200\n",
    "n_c = 7200\n",
    "n_w = 8100\n",
    "n_e = 6300\n",
    "total = 74280\n",
    "\n",
    "south_south = math.ceil((s_s * conference_sample_size)/total)\n",
    "south_west = math.ceil((s_w * conference_sample_size)/total)\n",
    "south_east = math.ceil((s_e * conference_sample_size)/total)\n",
    "north_central = math.ceil((n_c * conference_sample_size)/total)\n",
    "north_west = math.ceil((n_w * conference_sample_size)/total)\n",
    "north_east = math.ceil((n_e * conference_sample_size)/total)\n",
    "\n",
    "print(f\"{south_south} students required from the South-South\")\n",
    "print(f\"{south_west} students required from the South-West\")\n",
    "print(f\"{south_east} students required from the South-East\")\n",
    "print(f\"{north_central} students required from the North-Central\")\n",
    "print(f\"{north_west} students required from the North-West\")\n",
    "print(f\"{south_east} students required from the North-East\")"
   ]
  },
  {
   "cell_type": "markdown",
   "id": "15dd289a",
   "metadata": {},
   "source": [
    "It is important to note that this is the minimum number, judging from the official statistics, required to have a representative sample. However, considering that the actual percieved population as we know is much more than this calculated (but data on this percieved population is unavailable), the respondents should be a lot more per zone. "
   ]
  }
 ],
 "metadata": {
  "kernelspec": {
   "display_name": "Python 3 (ipykernel)",
   "language": "python",
   "name": "python3"
  },
  "language_info": {
   "codemirror_mode": {
    "name": "ipython",
    "version": 3
   },
   "file_extension": ".py",
   "mimetype": "text/x-python",
   "name": "python",
   "nbconvert_exporter": "python",
   "pygments_lexer": "ipython3",
   "version": "3.11.3"
  }
 },
 "nbformat": 4,
 "nbformat_minor": 5
}
